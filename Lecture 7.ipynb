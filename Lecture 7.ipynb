{
 "cells": [
  {
   "cell_type": "code",
   "execution_count": 1,
   "metadata": {},
   "outputs": [
    {
     "name": "stdout",
     "output_type": "stream",
     "text": [
      "1\n",
      "2\n",
      "3\n",
      "s\n",
      "t\n",
      "r\n",
      "i\n",
      "n\n",
      "g\n"
     ]
    }
   ],
   "source": [
    "#Notes about 'for' loop and its operation:\n",
    "#iterates through each value in list/string\n",
    "x = [1,2,3]\n",
    "for i in x:\n",
    "    print i\n",
    "    \n",
    "#can iterate through a string too ex:    \n",
    "y = 'string'\n",
    "for i in y:\n",
    "    print i "
   ]
  },
  {
   "cell_type": "code",
   "execution_count": 2,
   "metadata": {},
   "outputs": [
    {
     "name": "stdout",
     "output_type": "stream",
     "text": [
      "0\n",
      "1\n",
      "2\n",
      "3\n",
      "4\n"
     ]
    }
   ],
   "source": [
    "#range returns a list of items in that range !including 0!    \n",
    "range(5)\n",
    "\n",
    "#can be used in tandem with 'for' loop\n",
    "#range function(starting,ending,step)\n",
    "for i in range(5):\n",
    "    print(i)"
   ]
  },
  {
   "cell_type": "code",
   "execution_count": 3,
   "metadata": {},
   "outputs": [
    {
     "name": "stdout",
     "output_type": "stream",
     "text": [
      "1\n",
      "2\n",
      "3\n"
     ]
    }
   ],
   "source": [
    "#using range method to return each value\n",
    "for i in range(len(x)):\n",
    "    print(x[i])\n"
   ]
  },
  {
   "cell_type": "code",
   "execution_count": 4,
   "metadata": {},
   "outputs": [
    {
     "name": "stdout",
     "output_type": "stream",
     "text": [
      "6\n"
     ]
    }
   ],
   "source": [
    "#finding sum of list x of values [1,2,3]\n",
    "sum_=0\n",
    "for i in range(len(x)):\n",
    "    sum_+= x[i]\n",
    "print(sum_)\n"
   ]
  },
  {
   "cell_type": "code",
   "execution_count": 12,
   "metadata": {},
   "outputs": [
    {
     "name": "stdout",
     "output_type": "stream",
     "text": [
      "9\n"
     ]
    }
   ],
   "source": [
    "#finding the max value of list while iterating through a list \n",
    "#checks index in list if indexed item is greater than myMax value it replaces that value and returns myMax as larger num\n",
    "myList=[5,2,3,8,9,1,4]\n",
    "myMax = myList[0]\n",
    "i = 0 \n",
    "while i < len(myList):\n",
    "    if myMax < myList[i]:\n",
    "        myMax = myList[i]\n",
    "    i += 1\n",
    "print(myMax)"
   ]
  },
  {
   "cell_type": "code",
   "execution_count": null,
   "metadata": {},
   "outputs": [],
   "source": []
  }
 ],
 "metadata": {
  "kernelspec": {
   "display_name": "Python 2",
   "language": "python",
   "name": "python2"
  },
  "language_info": {
   "codemirror_mode": {
    "name": "ipython",
    "version": 2
   },
   "file_extension": ".py",
   "mimetype": "text/x-python",
   "name": "python",
   "nbconvert_exporter": "python",
   "pygments_lexer": "ipython2",
   "version": "2.7.16"
  }
 },
 "nbformat": 4,
 "nbformat_minor": 2
}
