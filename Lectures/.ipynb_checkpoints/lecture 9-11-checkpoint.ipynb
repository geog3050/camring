{
 "cells": [
  {
   "cell_type": "code",
   "execution_count": 3,
   "metadata": {},
   "outputs": [],
   "source": [
    "##Running ARCPython through jupyter notebook\n",
    "##MODEL FOR TRANSFORMING ONE SHAPEFILE INTO ANOTHER PROJECTION \n",
    "##ALSO ADDS A CATAGORY CALLED POPDENSITY \n",
    "import sys\n",
    "sys.path.append('C:\\\\Program Files (x86)\\\\ArcGIS\\\\Desktop10.7\\\\ArcPy\\\\')\n",
    "sys.path.append('C:\\\\Program Files (x86)\\\\ArcGIS\\\\Desktop10.7\\\\bin64\\\\')\n",
    "\n",
    "import arcpy"
   ]
  },
  {
   "cell_type": "code",
   "execution_count": 4,
   "metadata": {},
   "outputs": [],
   "source": [
    "arcpy.env.workspace = \"C:\\Users\\camring\\Geog3050\\data\"\n"
   ]
  },
  {
   "cell_type": "code",
   "execution_count": 5,
   "metadata": {},
   "outputs": [],
   "source": [
    "# Use the ListFeatureClasses function to return a list of\n",
    "#  shapefiles.\n",
    "featureclasses = arcpy.ListFeatureClasses()"
   ]
  },
  {
   "cell_type": "code",
   "execution_count": 6,
   "metadata": {},
   "outputs": [
    {
     "name": "stdout",
     "output_type": "stream",
     "text": [
      "[u'states.shp', u'states48.shp']\n"
     ]
    }
   ],
   "source": [
    "print featureclasses"
   ]
  },
  {
   "cell_type": "code",
   "execution_count": 7,
   "metadata": {},
   "outputs": [],
   "source": [
    "fc = featureclasses[0]"
   ]
  },
  {
   "cell_type": "code",
   "execution_count": 8,
   "metadata": {},
   "outputs": [
    {
     "name": "stdout",
     "output_type": "stream",
     "text": [
      "states.shp\n"
     ]
    }
   ],
   "source": [
    "print(fc)"
   ]
  },
  {
   "cell_type": "code",
   "execution_count": 9,
   "metadata": {},
   "outputs": [
    {
     "name": "stdout",
     "output_type": "stream",
     "text": [
      "(u'Washington', 85.80619812011719)\n",
      "(u'Montana', 6.005070209503174)\n",
      "(u'Maine', 38.83190155029297)\n",
      "(u'North Dakota', 8.995869636535645)\n",
      "(u'South Dakota', 9.579730033874512)\n",
      "(u'Wyoming', 4.928520202636719)\n",
      "(u'Wisconsin', 93.62210083007812)\n",
      "(u'Idaho', 15.001099586486816)\n",
      "(u'Vermont', 61.839298248291016)\n",
      "(u'Minnesota', 56.38410186767578)\n",
      "(u'Oregon', 34.27899932861328)\n",
      "(u'New Hampshire', 129.38900756835938)\n",
      "(u'Iowa', 51.02090072631836)\n",
      "(u'Massachusetts', 756.1129760742188)\n",
      "(u'Nebraska', 21.611900329589844)\n",
      "(u'New York', 374.6889953613281)\n",
      "(u'Pennsylvania', 264.4490051269531)\n",
      "(u'Connecticut', 658.969970703125)\n",
      "(u'Rhode Island', 945.9530029296875)\n",
      "(u'New Jersey', 1088.550048828125)\n",
      "(u'Indiana', 163.10299682617188)\n",
      "(u'Nevada', 16.42959976196289)\n",
      "(u'Utah', 25.15850067138672)\n",
      "(u'California', 209.72900390625)\n",
      "(u'Ohio', 272.9840087890625)\n",
      "(u'Illinois', 215.10000610351562)\n",
      "(u'District of Columbia', 7793.60986328125)\n",
      "(u'Delaware', 365.8869934082031)\n",
      "(u'West Virginia', 74.68399810791016)\n",
      "(u'Maryland', 531.4030151367188)\n",
      "(u'Colorado', 38.896400451660156)\n",
      "(u'Kentucky', 98.33470153808594)\n",
      "(u'Kansas', 32.2140998840332)\n",
      "(u'Virginia', 172.2469940185547)\n",
      "(u'Missouri', 78.36209869384766)\n",
      "(u'Arizona', 42.126399993896484)\n",
      "(u'Oklahoma', 48.21139907836914)\n",
      "(u'North Carolina', 156.2790069580078)\n",
      "(u'Tennessee', 130.5189971923828)\n",
      "(u'Texas', 76.11430358886719)\n",
      "(u'New Mexico', 14.409199714660645)\n",
      "(u'Alabama', 84.75080108642578)\n",
      "(u'Mississippi', 58.2515983581543)\n",
      "(u'Georgia', 133.11399841308594)\n",
      "(u'South Carolina', 125.88700103759766)\n",
      "(u'Arkansas', 48.34189987182617)\n",
      "(u'Louisiana', 95.6990966796875)\n",
      "(u'Florida', 271.6679992675781)\n",
      "(u'Michigan', 170.41000366210938)\n"
     ]
    }
   ],
   "source": [
    "#always remember to delete row and cursor because it eats up memory \n",
    "cursor = arcpy.da.SearchCursor(fc, [\"STATE_NAME\", \"popdensity\"]) \n",
    "#what ever variable you want to use put it into this list as an argument\n",
    "for row in cursor:\n",
    "    print(row[0], row[1])\n",
    "    del row\n",
    "del cursor"
   ]
  },
  {
   "cell_type": "code",
   "execution_count": 10,
   "metadata": {},
   "outputs": [
    {
     "data": {
      "text/plain": [
       "<Result 'C:\\\\Users\\\\camring\\\\Geog3050\\\\data\\\\states.shp'>"
      ]
     },
     "execution_count": 10,
     "metadata": {},
     "output_type": "execute_result"
    }
   ],
   "source": [
    "#adds a field to a database file\n",
    "arcpy.AddField_management(fc, \"popdensity\", \"FLOAT\")"
   ]
  },
  {
   "cell_type": "code",
   "execution_count": 11,
   "metadata": {},
   "outputs": [
    {
     "name": "stdout",
     "output_type": "stream",
     "text": [
      "[u'FID', u'Shape', u'AREA', u'STATE_NAME', u'STATE_FIPS', u'SUB_REGION', u'STATE_ABBR', u'POP1990', u'POP1999', u'POP90_SQMI', u'HOUSEHOLDS', u'MALES', u'FEMALES', u'WHITE', u'BLACK', u'AMERI_ES', u'ASIAN_PI', u'OTHER', u'HISPANIC', u'AGE_UNDER5', u'AGE_5_17', u'AGE_18_29', u'AGE_30_49', u'AGE_50_64', u'AGE_65_UP', u'NEVERMARRY', u'MARRIED', u'SEPARATED', u'WIDOWED', u'DIVORCED', u'HSEHLD_1_M', u'HSEHLD_1_F', u'MARHH_CHD', u'MARHH_NO_C', u'MHH_CHILD', u'FHH_CHILD', u'HSE_UNITS', u'VACANT', u'OWNER_OCC', u'RENTER_OCC', u'MEDIAN_VAL', u'MEDIANRENT', u'UNITS_1DET', u'UNITS_1ATT', u'UNITS2', u'UNITS3_9', u'UNITS10_49', u'UNITS50_UP', u'MOBILEHOME', u'NO_FARMS87', u'AVG_SIZE87', u'CROP_ACR87', u'AVG_SALE87', u'State', u'popdensity']\n"
     ]
    }
   ],
   "source": [
    "#parsing through field names and displaying them\n",
    "field_names = [f.name for f in arcpy.ListFields(fc)]\n",
    "print(field_names)"
   ]
  },
  {
   "cell_type": "code",
   "execution_count": 12,
   "metadata": {},
   "outputs": [],
   "source": [
    "#updates a row to add a column that has popdensity \n",
    "updatecursor = arcpy.da.UpdateCursor(fc, [\"AREA\", \"POP1999\", \"popdensity\"])\n",
    "for row in updatecursor:\n",
    "    row[2] = row[1] / row[0]\n",
    "    updatecursor.updateRow(row)\n",
    "    del row\n",
    "del updatecursor"
   ]
  },
  {
   "cell_type": "code",
   "execution_count": 13,
   "metadata": {},
   "outputs": [],
   "source": [
    "describe_fc = arcpy.Describe(fc)"
   ]
  },
  {
   "cell_type": "code",
   "execution_count": 14,
   "metadata": {},
   "outputs": [
    {
     "name": "stdout",
     "output_type": "stream",
     "text": [
      "This is a polygon shapefile\n"
     ]
    }
   ],
   "source": [
    "#Describes what type is the feature class or shapefile \n",
    "if describe_fc.shapeType == \"Polygon\":\n",
    "    print('This is a polygon shapefile')\n",
    "elif describe_fc.shapeType == \"Polyline\":\n",
    "    print('This is a polyline shapefile')\n",
    "elif describe_fc.shapeType == \"Point\":\n",
    "    print('this is a point')\n",
    "else:\n",
    "    print(\"Type unkown\")"
   ]
  },
  {
   "cell_type": "code",
   "execution_count": 15,
   "metadata": {},
   "outputs": [
    {
     "name": "stdout",
     "output_type": "stream",
     "text": [
      "GCS_WGS_1984\n"
     ]
    }
   ],
   "source": [
    "#printint what is the Coordinate system of the shapefile\n",
    "print describe_fc.spatialReference.name"
   ]
  },
  {
   "cell_type": "code",
   "execution_count": 48,
   "metadata": {},
   "outputs": [
    {
     "ename": "ExecuteError",
     "evalue": "Failed to execute. Parameters are not valid.\nERROR 000725: Output Data Element: Dataset C:\\Users\\camring\\Geog3050\\data\\states48.shp already exists.\nFailed to execute (Copy).\n",
     "output_type": "error",
     "traceback": [
      "\u001b[1;31m---------------------------------------------------------------------------\u001b[0m",
      "\u001b[1;31mExecuteError\u001b[0m                              Traceback (most recent call last)",
      "\u001b[1;32m<ipython-input-48-cf6765537f01>\u001b[0m in \u001b[0;36m<module>\u001b[1;34m()\u001b[0m\n\u001b[0;32m      1\u001b[0m \u001b[1;31m# creating a copy shapefile named us 48states\u001b[0m\u001b[1;33m\u001b[0m\u001b[1;33m\u001b[0m\u001b[0m\n\u001b[0;32m      2\u001b[0m \u001b[1;32mpass\u001b[0m\u001b[1;33m\u001b[0m\u001b[0m\n\u001b[1;32m----> 3\u001b[1;33m \u001b[0marcpy\u001b[0m\u001b[1;33m.\u001b[0m\u001b[0mCopy_management\u001b[0m\u001b[1;33m(\u001b[0m\u001b[0mfc\u001b[0m\u001b[1;33m,\u001b[0m\u001b[1;34m\"states48.shp\"\u001b[0m\u001b[1;33m)\u001b[0m\u001b[1;33m\u001b[0m\u001b[0m\n\u001b[0m",
      "\u001b[1;32mC:\\Program Files (x86)\\ArcGIS\\Desktop10.7\\ArcPy\\arcpy\\management.py\u001b[0m in \u001b[0;36mCopy\u001b[1;34m(in_data, out_data, data_type)\u001b[0m\n\u001b[0;32m   4305\u001b[0m         \u001b[1;32mreturn\u001b[0m \u001b[0mretval\u001b[0m\u001b[1;33m\u001b[0m\u001b[0m\n\u001b[0;32m   4306\u001b[0m     \u001b[1;32mexcept\u001b[0m \u001b[0mException\u001b[0m \u001b[1;32mas\u001b[0m \u001b[0me\u001b[0m\u001b[1;33m:\u001b[0m\u001b[1;33m\u001b[0m\u001b[0m\n\u001b[1;32m-> 4307\u001b[1;33m         \u001b[1;32mraise\u001b[0m \u001b[0me\u001b[0m\u001b[1;33m\u001b[0m\u001b[0m\n\u001b[0m\u001b[0;32m   4308\u001b[0m \u001b[1;33m\u001b[0m\u001b[0m\n\u001b[0;32m   4309\u001b[0m \u001b[1;33m@\u001b[0m\u001b[0mgptooldoc\u001b[0m\u001b[1;33m(\u001b[0m\u001b[1;34m'CreateDatabaseView_management'\u001b[0m\u001b[1;33m,\u001b[0m \u001b[0mNone\u001b[0m\u001b[1;33m)\u001b[0m\u001b[1;33m\u001b[0m\u001b[0m\n",
      "\u001b[1;31mExecuteError\u001b[0m: Failed to execute. Parameters are not valid.\nERROR 000725: Output Data Element: Dataset C:\\Users\\camring\\Geog3050\\data\\states48.shp already exists.\nFailed to execute (Copy).\n"
     ]
    }
   ],
   "source": [
    "# creating a copy shapefile named us 48states \n",
    "pass \n",
    "arcpy.Copy_management(fc,\"states48.shp\")"
   ]
  },
  {
   "cell_type": "code",
   "execution_count": 18,
   "metadata": {},
   "outputs": [],
   "source": [
    "\n",
    "fc48 = featureclasses[1]"
   ]
  },
  {
   "cell_type": "code",
   "execution_count": 19,
   "metadata": {},
   "outputs": [],
   "source": [
    "#updates a row to add a column that has popdensity \n",
    "updatecursor = arcpy.da.UpdateCursor(fc48, [\"STATE_NAME\"])\n",
    "for row in updatecursor:\n",
    "    if row[0] == \"Hawaii\" or row[0]==\"Alaska\":\n",
    "        updatecursor.deleteRow()\n",
    "del row\n",
    "del updatecursor"
   ]
  },
  {
   "cell_type": "code",
   "execution_count": 23,
   "metadata": {},
   "outputs": [
    {
     "name": "stdout",
     "output_type": "stream",
     "text": [
      "(u'Washington', 85.80619812011719)\n",
      "(u'Montana', 6.005070209503174)\n",
      "(u'Maine', 38.83190155029297)\n",
      "(u'North Dakota', 8.995869636535645)\n",
      "(u'South Dakota', 9.579730033874512)\n",
      "(u'Wyoming', 4.928520202636719)\n",
      "(u'Wisconsin', 93.62210083007812)\n",
      "(u'Idaho', 15.001099586486816)\n",
      "(u'Vermont', 61.839298248291016)\n",
      "(u'Minnesota', 56.38410186767578)\n",
      "(u'Oregon', 34.27899932861328)\n",
      "(u'New Hampshire', 129.38900756835938)\n",
      "(u'Iowa', 51.02090072631836)\n",
      "(u'Massachusetts', 756.1129760742188)\n",
      "(u'Nebraska', 21.611900329589844)\n",
      "(u'New York', 374.6889953613281)\n",
      "(u'Pennsylvania', 264.4490051269531)\n",
      "(u'Connecticut', 658.969970703125)\n",
      "(u'Rhode Island', 945.9530029296875)\n",
      "(u'New Jersey', 1088.550048828125)\n",
      "(u'Indiana', 163.10299682617188)\n",
      "(u'Nevada', 16.42959976196289)\n",
      "(u'Utah', 25.15850067138672)\n",
      "(u'California', 209.72900390625)\n",
      "(u'Ohio', 272.9840087890625)\n",
      "(u'Illinois', 215.10000610351562)\n",
      "(u'District of Columbia', 7793.60986328125)\n",
      "(u'Delaware', 365.8869934082031)\n",
      "(u'West Virginia', 74.68399810791016)\n",
      "(u'Maryland', 531.4030151367188)\n",
      "(u'Colorado', 38.896400451660156)\n",
      "(u'Kentucky', 98.33470153808594)\n",
      "(u'Kansas', 32.2140998840332)\n",
      "(u'Virginia', 172.2469940185547)\n",
      "(u'Missouri', 78.36209869384766)\n",
      "(u'Arizona', 42.126399993896484)\n",
      "(u'Oklahoma', 48.21139907836914)\n",
      "(u'North Carolina', 156.2790069580078)\n",
      "(u'Tennessee', 130.5189971923828)\n",
      "(u'Texas', 76.11430358886719)\n",
      "(u'New Mexico', 14.409199714660645)\n",
      "(u'Alabama', 84.75080108642578)\n",
      "(u'Mississippi', 58.2515983581543)\n",
      "(u'Georgia', 133.11399841308594)\n",
      "(u'South Carolina', 125.88700103759766)\n",
      "(u'Arkansas', 48.34189987182617)\n",
      "(u'Louisiana', 95.6990966796875)\n",
      "(u'Florida', 271.6679992675781)\n",
      "(u'Michigan', 170.41000366210938)\n"
     ]
    }
   ],
   "source": [
    "#always remember to delete row and cursor because it eats up memory \n",
    "cursor = arcpy.da.SearchCursor(fc48, [\"STATE_NAME\", \"popdensity\"]) \n",
    "#what ever variable you want to use put it into this list as an argument\n",
    "for row in cursor:\n",
    "    print(row[0], row[1])\n",
    "    del row\n",
    "del cursor"
   ]
  },
  {
   "cell_type": "code",
   "execution_count": 25,
   "metadata": {},
   "outputs": [
    {
     "name": "stdout",
     "output_type": "stream",
     "text": [
      "GCS_WGS_1984\n"
     ]
    }
   ],
   "source": [
    "#printint what is the Coordinate system of the shapefile\n",
    "describe_fc48 = arcpy.Describe(fc48)\n",
    "print describe_fc48.spatialReference.name"
   ]
  },
  {
   "cell_type": "code",
   "execution_count": 26,
   "metadata": {},
   "outputs": [],
   "source": [
    "#getting a projection along with projection created the object by using the ID \n",
    "destination_sr = arcpy.SpatialReference(102003)"
   ]
  },
  {
   "cell_type": "code",
   "execution_count": 28,
   "metadata": {},
   "outputs": [
    {
     "name": "stdout",
     "output_type": "stream",
     "text": [
      "USA_Contiguous_Albers_Equal_Area_Conic\n"
     ]
    }
   ],
   "source": [
    "#the destitination of what were transforming from original projection\n",
    "print destination_sr.name"
   ]
  },
  {
   "cell_type": "code",
   "execution_count": 29,
   "metadata": {},
   "outputs": [
    {
     "data": {
      "text/plain": [
       "<Result 'C:\\\\Users\\\\camring\\\\Geog3050\\\\data\\\\states48_albers'>"
      ]
     },
     "execution_count": 29,
     "metadata": {},
     "output_type": "execute_result"
    }
   ],
   "source": [
    "arcpy.Project_management(fc48,\"states48_albers\", destination_sr)"
   ]
  },
  {
   "cell_type": "code",
   "execution_count": 41,
   "metadata": {},
   "outputs": [],
   "source": [
    "west = [\"Washington\", \"Montana\", \"North Dakota\", \"South Dakota\", \"Wyoming\", \"Idaho\", \"Minnesota\", \"Oregon\", \"Iowa\", \"Nebraska\", \"Nevada\", \"Utah\", \"California\", \"Colorado\", \"Kansas\", \"Missouri\", \"Arizona\", \"Oklahoma\", \"Texas\", \"New Mexico\", \"Arkansas\", \"Louisiana\"  ]\n"
   ]
  },
  {
   "cell_type": "code",
   "execution_count": 42,
   "metadata": {},
   "outputs": [
    {
     "data": {
      "text/plain": [
       "22"
      ]
     },
     "execution_count": 42,
     "metadata": {},
     "output_type": "execute_result"
    }
   ],
   "source": [
    "len(west)"
   ]
  },
  {
   "cell_type": "code",
   "execution_count": 43,
   "metadata": {},
   "outputs": [
    {
     "name": "stdout",
     "output_type": "stream",
     "text": [
      "states48_albers.shp\n"
     ]
    }
   ],
   "source": [
    "featureclasses = arcpy.ListFeatureClasses()\n",
    "fc48_albers = featureclasses[2]\n",
    "#arcpy.AddField_management(fc, \"popdensity\", \"FLOAT\")\n",
    "print(fc48_albers)"
   ]
  },
  {
   "cell_type": "code",
   "execution_count": 44,
   "metadata": {},
   "outputs": [
    {
     "data": {
      "text/plain": [
       "<Result 'C:\\\\Users\\\\camring\\\\Geog3050\\\\data\\\\states48_albers.shp'>"
      ]
     },
     "execution_count": 44,
     "metadata": {},
     "output_type": "execute_result"
    }
   ],
   "source": [
    "arcpy.AddField_management(fc48_albers, \"eorw\", \"TEXT\")"
   ]
  },
  {
   "cell_type": "code",
   "execution_count": 45,
   "metadata": {},
   "outputs": [],
   "source": [
    "updatecursor = arcpy.da.UpdateCursor(fc48_albers, [\"STATE_NAME\", \"eorw\"])\n",
    "for row in updatecursor:\n",
    "    if row[0] in west:\n",
    "        row[1] = \"West\"\n",
    "    else:\n",
    "        row[1] = \"East\"\n",
    "        \n",
    "    updatecursor.updateRow(row)    \n",
    "del row\n",
    "del updatecursor"
   ]
  },
  {
   "cell_type": "code",
   "execution_count": 38,
   "metadata": {},
   "outputs": [
    {
     "name": "stdout",
     "output_type": "stream",
     "text": [
      "(u'Washington', u'West')\n",
      "(u'Montana', u'West')\n",
      "(u'Maine', u'East')\n",
      "(u'North Dakota', u'East')\n",
      "(u'South Dakota', u'West')\n",
      "(u'Wyoming', u'West')\n",
      "(u'Wisconsin', u'East')\n",
      "(u'Idaho', u'West')\n",
      "(u'Vermont', u'East')\n",
      "(u'Minnesota', u'West')\n",
      "(u'Oregon', u'West')\n",
      "(u'New Hampshire', u'East')\n",
      "(u'Iowa', u'West')\n",
      "(u'Massachusetts', u'East')\n",
      "(u'Nebraska', u'West')\n",
      "(u'New York', u'East')\n",
      "(u'Pennsylvania', u'East')\n",
      "(u'Connecticut', u'East')\n",
      "(u'Rhode Island', u'East')\n",
      "(u'New Jersey', u'East')\n",
      "(u'Indiana', u'East')\n",
      "(u'Nevada', u'West')\n",
      "(u'Utah', u'West')\n",
      "(u'California', u'West')\n",
      "(u'Ohio', u'East')\n",
      "(u'Illinois', u'East')\n",
      "(u'District of Columbia', u'East')\n",
      "(u'Delaware', u'East')\n",
      "(u'West Virginia', u'East')\n",
      "(u'Maryland', u'East')\n",
      "(u'Colorado', u'West')\n",
      "(u'Kentucky', u'East')\n",
      "(u'Kansas', u'West')\n",
      "(u'Virginia', u'East')\n",
      "(u'Missouri', u'West')\n",
      "(u'Arizona', u'West')\n",
      "(u'Oklahoma', u'West')\n",
      "(u'North Carolina', u'East')\n",
      "(u'Tennessee', u'East')\n",
      "(u'Texas', u'West')\n",
      "(u'New Mexico', u'West')\n",
      "(u'Alabama', u'East')\n",
      "(u'Mississippi', u'East')\n",
      "(u'Georgia', u'East')\n",
      "(u'South Carolina', u'East')\n",
      "(u'Arkansas', u'West')\n",
      "(u'Louisiana', u'West')\n",
      "(u'Florida', u'East')\n",
      "(u'Michigan', u'East')\n"
     ]
    }
   ],
   "source": [
    "pass \n",
    "#always remember to delete row and cursor because it eats up memory \n",
    "cursor = arcpy.da.SearchCursor(fc48_albers, [\"STATE_NAME\", \"eorw\"]) \n",
    "#what ever variable you want to use put it into this list as an argument\n",
    "for row in cursor:\n",
    "    print(row[0], row[1])\n",
    "    del row\n",
    "del cursor"
   ]
  },
  {
   "cell_type": "code",
   "execution_count": 47,
   "metadata": {},
   "outputs": [
    {
     "data": {
      "text/plain": [
       "<Result 'C:\\\\Users\\\\camring\\\\Geog3050\\\\data\\\\states_ew.shp'>"
      ]
     },
     "execution_count": 47,
     "metadata": {},
     "output_type": "execute_result"
    }
   ],
   "source": [
    "arcpy.Dissolve_management(fc48_albers, \"states_ew\", \"eorw\")"
   ]
  },
  {
   "cell_type": "code",
   "execution_count": null,
   "metadata": {},
   "outputs": [],
   "source": [
    "descirbe_fc48 = arcpy.Describe(fc48)"
   ]
  }
 ],
 "metadata": {
  "kernelspec": {
   "display_name": "Python 2",
   "language": "python",
   "name": "python2"
  },
  "language_info": {
   "codemirror_mode": {
    "name": "ipython",
    "version": 2
   },
   "file_extension": ".py",
   "mimetype": "text/x-python",
   "name": "python",
   "nbconvert_exporter": "python",
   "pygments_lexer": "ipython2",
   "version": "2.7.16"
  }
 },
 "nbformat": 4,
 "nbformat_minor": 2
}
