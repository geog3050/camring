{
 "cells": [
  {
   "cell_type": "code",
   "execution_count": 11,
   "metadata": {},
   "outputs": [],
   "source": [
    "##Running ARCPython through jupyter notebook\n",
    "import sys\n",
    "sys.path.append('C:\\\\Program Files (x86)\\\\ArcGIS\\\\Desktop10.7\\\\ArcPy\\\\')\n",
    "sys.path.append('C:\\\\Program Files (x86)\\\\ArcGIS\\\\Desktop10.7\\\\bin64\\\\')\n",
    "\n",
    "import arcpy"
   ]
  },
  {
   "cell_type": "code",
   "execution_count": 12,
   "metadata": {},
   "outputs": [],
   "source": [
    "arcpy.env.workspace = \"C:\\Users\\camring\\Geog3050\\data\"\n"
   ]
  },
  {
   "cell_type": "code",
   "execution_count": 13,
   "metadata": {},
   "outputs": [],
   "source": [
    "# Use the ListFeatureClasses function to return a list of\n",
    "#  shapefiles.\n",
    "featureclasses = arcpy.ListFeatureClasses()"
   ]
  },
  {
   "cell_type": "code",
   "execution_count": 14,
   "metadata": {},
   "outputs": [
    {
     "name": "stdout",
     "output_type": "stream",
     "text": [
      "[u'states.shp']\n"
     ]
    }
   ],
   "source": [
    "print featureclasses"
   ]
  },
  {
   "cell_type": "code",
   "execution_count": 15,
   "metadata": {},
   "outputs": [],
   "source": [
    "fc = featureclasses[0]"
   ]
  },
  {
   "cell_type": "code",
   "execution_count": 16,
   "metadata": {},
   "outputs": [
    {
     "name": "stdout",
     "output_type": "stream",
     "text": [
      "states.shp\n"
     ]
    }
   ],
   "source": [
    "print(fc)"
   ]
  },
  {
   "cell_type": "code",
   "execution_count": 51,
   "metadata": {},
   "outputs": [
    {
     "name": "stdout",
     "output_type": "stream",
     "text": [
      "(u'Washington', 85.80619812011719)\n",
      "(u'Montana', 6.005070209503174)\n",
      "(u'Maine', 38.83190155029297)\n",
      "(u'North Dakota', 8.995869636535645)\n",
      "(u'South Dakota', 9.579730033874512)\n",
      "(u'Wyoming', 4.928520202636719)\n",
      "(u'Wisconsin', 93.62210083007812)\n",
      "(u'Idaho', 15.001099586486816)\n",
      "(u'Vermont', 61.839298248291016)\n",
      "(u'Minnesota', 56.38410186767578)\n",
      "(u'Oregon', 34.27899932861328)\n",
      "(u'New Hampshire', 129.38900756835938)\n",
      "(u'Iowa', 51.02090072631836)\n",
      "(u'Massachusetts', 756.1129760742188)\n",
      "(u'Nebraska', 21.611900329589844)\n",
      "(u'New York', 374.6889953613281)\n",
      "(u'Pennsylvania', 264.4490051269531)\n",
      "(u'Connecticut', 658.969970703125)\n",
      "(u'Rhode Island', 945.9530029296875)\n",
      "(u'New Jersey', 1088.550048828125)\n",
      "(u'Indiana', 163.10299682617188)\n",
      "(u'Nevada', 16.42959976196289)\n",
      "(u'Utah', 25.15850067138672)\n",
      "(u'California', 209.72900390625)\n",
      "(u'Ohio', 272.9840087890625)\n",
      "(u'Illinois', 215.10000610351562)\n",
      "(u'District of Columbia', 7793.60986328125)\n",
      "(u'Delaware', 365.8869934082031)\n",
      "(u'West Virginia', 74.68399810791016)\n",
      "(u'Maryland', 531.4030151367188)\n",
      "(u'Colorado', 38.896400451660156)\n",
      "(u'Kentucky', 98.33470153808594)\n",
      "(u'Kansas', 32.2140998840332)\n",
      "(u'Virginia', 172.2469940185547)\n",
      "(u'Missouri', 78.36209869384766)\n",
      "(u'Arizona', 42.126399993896484)\n",
      "(u'Oklahoma', 48.21139907836914)\n",
      "(u'North Carolina', 156.2790069580078)\n",
      "(u'Tennessee', 130.5189971923828)\n",
      "(u'Texas', 76.11430358886719)\n",
      "(u'New Mexico', 14.409199714660645)\n",
      "(u'Alabama', 84.75080108642578)\n",
      "(u'Mississippi', 58.2515983581543)\n",
      "(u'Georgia', 133.11399841308594)\n",
      "(u'South Carolina', 125.88700103759766)\n",
      "(u'Arkansas', 48.34189987182617)\n",
      "(u'Louisiana', 95.6990966796875)\n",
      "(u'Florida', 271.6679992675781)\n",
      "(u'Michigan', 170.41000366210938)\n",
      "(u'Hawaii', 187.4239959716797)\n"
     ]
    }
   ],
   "source": [
    "#always remember to delete row and cursor because it eats up memory \n",
    "cursor = arcpy.da.SearchCursor(fc, [\"STATE_NAME\", \"popdensity\"]) \n",
    "#what ever variable you want to use put it into this list as an argument\n",
    "for row in cursor:\n",
    "    print(row[0], row[1])\n",
    "    del row\n",
    "del cursor"
   ]
  },
  {
   "cell_type": "code",
   "execution_count": 52,
   "metadata": {},
   "outputs": [
    {
     "data": {
      "text/plain": [
       "<Result 'C:\\\\Users\\\\camring\\\\Geog3050\\\\data\\\\states.shp'>"
      ]
     },
     "execution_count": 52,
     "metadata": {},
     "output_type": "execute_result"
    }
   ],
   "source": [
    "#adds a field to a database file\n",
    "arcpy.AddField_management(fc, \"popdensity\", \"FLOAT\")"
   ]
  },
  {
   "cell_type": "code",
   "execution_count": 53,
   "metadata": {},
   "outputs": [
    {
     "name": "stdout",
     "output_type": "stream",
     "text": [
      "[u'FID', u'Shape', u'AREA', u'STATE_NAME', u'STATE_FIPS', u'SUB_REGION', u'STATE_ABBR', u'POP1990', u'POP1999', u'POP90_SQMI', u'HOUSEHOLDS', u'MALES', u'FEMALES', u'WHITE', u'BLACK', u'AMERI_ES', u'ASIAN_PI', u'OTHER', u'HISPANIC', u'AGE_UNDER5', u'AGE_5_17', u'AGE_18_29', u'AGE_30_49', u'AGE_50_64', u'AGE_65_UP', u'NEVERMARRY', u'MARRIED', u'SEPARATED', u'WIDOWED', u'DIVORCED', u'HSEHLD_1_M', u'HSEHLD_1_F', u'MARHH_CHD', u'MARHH_NO_C', u'MHH_CHILD', u'FHH_CHILD', u'HSE_UNITS', u'VACANT', u'OWNER_OCC', u'RENTER_OCC', u'MEDIAN_VAL', u'MEDIANRENT', u'UNITS_1DET', u'UNITS_1ATT', u'UNITS2', u'UNITS3_9', u'UNITS10_49', u'UNITS50_UP', u'MOBILEHOME', u'NO_FARMS87', u'AVG_SIZE87', u'CROP_ACR87', u'AVG_SALE87', u'State', u'popdensity']\n"
     ]
    }
   ],
   "source": [
    "#parsing through field names and displaying them\n",
    "field_names = [f.name for f in arcpy.ListFields(fc)]\n",
    "print(field_names)"
   ]
  },
  {
   "cell_type": "code",
   "execution_count": 54,
   "metadata": {},
   "outputs": [],
   "source": [
    "#updates a row to add a column that has popdensity \n",
    "updatecursor = arcpy.da.UpdateCursor(fc, [\"AREA\", \"POP1999\", \"popdensity\"])\n",
    "for row in updatecursor:\n",
    "    row[2] = row[1] / row[0]\n",
    "    updatecursor.updateRow(row)\n",
    "    del row\n",
    "del updatecursor"
   ]
  },
  {
   "cell_type": "code",
   "execution_count": null,
   "metadata": {},
   "outputs": [],
   "source": []
  }
 ],
 "metadata": {
  "kernelspec": {
   "display_name": "Python 2",
   "language": "python",
   "name": "python2"
  },
  "language_info": {
   "codemirror_mode": {
    "name": "ipython",
    "version": 2
   },
   "file_extension": ".py",
   "mimetype": "text/x-python",
   "name": "python",
   "nbconvert_exporter": "python",
   "pygments_lexer": "ipython2",
   "version": "2.7.16"
  }
 },
 "nbformat": 4,
 "nbformat_minor": 2
}
