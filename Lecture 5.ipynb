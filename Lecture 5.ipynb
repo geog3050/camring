{
 "cells": [
  {
   "cell_type": "code",
   "execution_count": 11,
   "metadata": {},
   "outputs": [
    {
     "name": "stdout",
     "output_type": "stream",
     "text": [
      "integer division or modulo by zero\n"
     ]
    }
   ],
   "source": [
    "#catching an error and printing said error\n",
    "try:\n",
    "    a = 45/0\n",
    "except Exception as error:\n",
    "    print(error)\n"
   ]
  },
  {
   "cell_type": "code",
   "execution_count": 25,
   "metadata": {},
   "outputs": [],
   "source": [
    "f = None\n",
    "try:\n",
    "    f = open ('C:\\Users\\camring\\Geog3050\\sample.txt', 'r+')\n",
    "    f.readline()\n",
    "    f.readlines()\n",
    "    f.seek(0)\n",
    "    f.read()\n",
    "    f.write('this is a test')\n",
    "except IOError:\n",
    "    print('The file does not exist')\n",
    "finally: \n",
    "    if f:\n",
    "        f.close()"
   ]
  },
  {
   "cell_type": "code",
   "execution_count": null,
   "metadata": {},
   "outputs": [],
   "source": []
  }
 ],
 "metadata": {
  "kernelspec": {
   "display_name": "Python 2",
   "language": "python",
   "name": "python2"
  },
  "language_info": {
   "codemirror_mode": {
    "name": "ipython",
    "version": 2
   },
   "file_extension": ".py",
   "mimetype": "text/x-python",
   "name": "python",
   "nbconvert_exporter": "python",
   "pygments_lexer": "ipython2",
   "version": "2.7.16"
  }
 },
 "nbformat": 4,
 "nbformat_minor": 2
}
